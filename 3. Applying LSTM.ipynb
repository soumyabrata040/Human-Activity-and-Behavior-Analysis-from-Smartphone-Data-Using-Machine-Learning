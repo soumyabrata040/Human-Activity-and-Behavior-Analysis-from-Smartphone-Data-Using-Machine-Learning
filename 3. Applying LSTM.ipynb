{
 "cells": [
  {
   "cell_type": "markdown",
   "metadata": {},
   "source": [
    "<html><h1><center style=\"color:blue\">Applying LSTM Models on Raw Data</center></h1></html>"
   ]
  },
  {
   "cell_type": "code",
   "execution_count": 1,
   "metadata": {},
   "outputs": [],
   "source": [
    "# Importing Libraries\n",
    "\n",
    "import pandas as pd\n",
    "import numpy as np\n",
    "\n",
    "# Import Keras\n",
    "from keras import backend as K\n",
    "from keras.models import Sequential\n",
    "from keras.layers import LSTM\n",
    "from keras.layers.core import Dense, Dropout\n",
    "from keras.layers import BatchNormalization\n",
    "from keras.regularizers import L1L2\n",
    "from keras import models    \n"
   ]
  },
  {
   "cell_type": "code",
   "execution_count": 2,
   "metadata": {},
   "outputs": [],
   "source": [
    "# Activities are the class labels\n",
    "# It is a 6 class classification\n",
    "ACTIVITIES = {\n",
    "    0: 'WALKING',\n",
    "    1: 'WALKING_UPSTAIRS',\n",
    "    2: 'WALKING_DOWNSTAIRS',\n",
    "    3: 'SITTING',\n",
    "    4: 'STANDING',\n",
    "    5: 'LAYING',\n",
    "}"
   ]
  },
  {
   "cell_type": "code",
   "execution_count": 3,
   "metadata": {},
   "outputs": [],
   "source": [
    "import matplotlib.pyplot as plt\n",
    "import seaborn as sns\n",
    "\n",
    "# function to print the confusion matrix\n",
    "\n",
    "def confusion_matrix(Y_true, Y_pred):\n",
    "    \n",
    "    Y_true = pd.Series([ACTIVITIES[y] for y in np.argmax(Y_true, axis=1)])\n",
    "    Y_pred = pd.Series([ACTIVITIES[y] for y in np.argmax(Y_pred, axis=1)])\n",
    "    \n",
    "    print(Y_true)\n",
    "    print(Y_pred)\n",
    "    return pd.crosstab(Y_true, Y_pred, rownames=['True'], colnames=['Pred'])\n",
    "\n",
    "    \n",
    "    "
   ]
  },
  {
   "cell_type": "markdown",
   "metadata": {},
   "source": [
    "<html><h1><p style=\"color:red\">Loading Data / Making Data </p></h1></html>"
   ]
  },
  {
   "cell_type": "code",
   "execution_count": 4,
   "metadata": {},
   "outputs": [],
   "source": [
    "# Data directory\n",
    "DATADIR = 'UCI_HAR_Dataset'\n",
    "\n",
    "# Raw data signals\n",
    "# Signals are from Accelerometer and Gyroscope\n",
    "# The signals are in x,y,z directions\n",
    "# Sensor signals are filtered to have only body acceleration\n",
    "# excluding the acceleration due to gravity\n",
    "# Triaxial acceleration from the accelerometer is total acceleration\n",
    "SIGNALS = [\n",
    "    \"body_acc_x\",\n",
    "    \"body_acc_y\",\n",
    "    \"body_acc_z\",\n",
    "    \"body_gyro_x\",\n",
    "    \"body_gyro_y\",\n",
    "    \"body_gyro_z\",\n",
    "    \"total_acc_x\",\n",
    "    \"total_acc_y\",\n",
    "    \"total_acc_z\"\n",
    "    ]"
   ]
  },
  {
   "cell_type": "code",
   "execution_count": 5,
   "metadata": {},
   "outputs": [],
   "source": [
    "# function to read the data from csv file\n",
    "def _read_csv(filename):\n",
    "    return pd.read_csv(filename, delim_whitespace=True, header=None)\n",
    "\n",
    "# function to load the load\n",
    "def load_signals(subset):\n",
    "    signals_data = []\n",
    "\n",
    "    for signal in SIGNALS:\n",
    "        filename = f'UCI_HAR_Dataset/{subset}/Inertial Signals/{signal}_{subset}.txt'\n",
    "        signals_data.append(\n",
    "            _read_csv(filename).to_numpy()\n",
    "        ) \n",
    "\n",
    "    # Transpose is used to change the dimensionality of the output,\n",
    "    # aggregating the signals by combination of sample/timestep.\n",
    "    # Resultant shape is (7352 train/2947 test samples, 128 timesteps, 9 signals)\n",
    "    return np.transpose(signals_data, (1, 2, 0))"
   ]
  },
  {
   "cell_type": "code",
   "execution_count": 6,
   "metadata": {},
   "outputs": [],
   "source": [
    "def load_y(subset):\n",
    "    \"\"\"\n",
    "    The objective that we are trying to predict is a integer, from 1 to 6,\n",
    "    that represents a human activity. We return a binary representation of \n",
    "    every sample objective as a 6 bits vector using One Hot Encoding\n",
    "    (https://pandas.pydata.org/pandas-docs/stable/generated/pandas.get_dummies.html)\n",
    "    \"\"\"\n",
    "    filename = f'UCI_HAR_Dataset/{subset}/y_{subset}.txt'\n",
    "    y = _read_csv(filename)[0]\n",
    "\n",
    "    return pd.get_dummies(y).to_numpy()"
   ]
  },
  {
   "cell_type": "code",
   "execution_count": 7,
   "metadata": {},
   "outputs": [],
   "source": [
    "def load_data():\n",
    "    \"\"\"\n",
    "    Obtain the dataset from multiple files.\n",
    "    Returns: X_train, X_test, y_train, y_test\n",
    "    \"\"\"\n",
    "    X_train, X_test = load_signals('train'), load_signals('test')\n",
    "    y_train, y_test = load_y('train'), load_y('test')\n",
    "\n",
    "    return X_train, X_test, y_train, y_test"
   ]
  },
  {
   "cell_type": "code",
   "execution_count": 8,
   "metadata": {},
   "outputs": [],
   "source": [
    "# Importing tensorflow\n",
    "np.random.seed(42)\n",
    "import tensorflow as tf\n",
    "tf.random.set_seed(42)"
   ]
  },
  {
   "cell_type": "code",
   "execution_count": 9,
   "metadata": {},
   "outputs": [],
   "source": [
    "# Initializing parameters\n",
    "epochs = 30\n",
    "batch_size = 16\n",
    "n_hidden = 32\n",
    "pv = 0.25"
   ]
  },
  {
   "cell_type": "code",
   "execution_count": 10,
   "metadata": {},
   "outputs": [],
   "source": [
    "#function to count the number of classes\n",
    "def _count_classes(y):\n",
    "    return len(set([tuple(category) for category in y]))"
   ]
  },
  {
   "cell_type": "code",
   "execution_count": 11,
   "metadata": {},
   "outputs": [],
   "source": [
    "# Loading the train and test data\n",
    "X_train, X_test, Y_train, Y_test = load_data()"
   ]
  },
  {
   "cell_type": "code",
   "execution_count": 12,
   "metadata": {},
   "outputs": [
    {
     "name": "stdout",
     "output_type": "stream",
     "text": [
      "128\n",
      "9\n",
      "7352\n"
     ]
    }
   ],
   "source": [
    "timesteps = len(X_train[0])\n",
    "input_dim = len(X_train[0][0])\n",
    "n_classes = _count_classes(Y_train)\n",
    "\n",
    "print(timesteps)\n",
    "print(input_dim)\n",
    "print(len(X_train))"
   ]
  },
  {
   "cell_type": "code",
   "execution_count": null,
   "metadata": {},
   "outputs": [],
   "source": []
  },
  {
   "cell_type": "markdown",
   "metadata": {},
   "source": [
    "<html><h1><p style=\"color:red\">1. Defining the Architecture of 1-Layer of LSTM </p></h1></html>"
   ]
  },
  {
   "cell_type": "code",
   "execution_count": 13,
   "metadata": {},
   "outputs": [
    {
     "name": "stdout",
     "output_type": "stream",
     "text": [
      "Model: \"sequential\"\n",
      "_________________________________________________________________\n",
      " Layer (type)                Output Shape              Param #   \n",
      "=================================================================\n",
      " lstm (LSTM)                 (None, 32)                5376      \n",
      "                                                                 \n",
      " batch_normalization (BatchN  (None, 32)               128       \n",
      " ormalization)                                                   \n",
      "                                                                 \n",
      " dropout (Dropout)           (None, 32)                0         \n",
      "                                                                 \n",
      " dense (Dense)               (None, 6)                 198       \n",
      "                                                                 \n",
      "=================================================================\n",
      "Total params: 5,702\n",
      "Trainable params: 5,638\n",
      "Non-trainable params: 64\n",
      "_________________________________________________________________\n"
     ]
    }
   ],
   "source": [
    "# Initiliazing the sequential model\n",
    "model = Sequential()\n",
    "# Configuring the parameters\n",
    "model.add(LSTM(n_hidden, input_shape=(timesteps, input_dim)))\n",
    "model.add(BatchNormalization())\n",
    "# Adding a dropout layer\n",
    "model.add(Dropout(pv))\n",
    "# Adding a dense output layer with sigmoid activation\n",
    "model.add(Dense(n_classes, activation='sigmoid'))\n",
    "model.summary()"
   ]
  },
  {
   "cell_type": "code",
   "execution_count": 14,
   "metadata": {},
   "outputs": [],
   "source": [
    "# Compiling the model\n",
    "model.compile(loss='categorical_crossentropy', optimizer='rmsprop', metrics=['accuracy'])"
   ]
  },
  {
   "cell_type": "code",
   "execution_count": 15,
   "metadata": {
    "scrolled": false
   },
   "outputs": [
    {
     "name": "stdout",
     "output_type": "stream",
     "text": [
      "Epoch 1/30\n",
      "460/460 [==============================] - 19s 34ms/step - loss: 0.8532 - accuracy: 0.6507 - val_loss: 1.6680 - val_accuracy: 0.4062\n",
      "Epoch 2/30\n",
      "460/460 [==============================] - 15s 32ms/step - loss: 0.4084 - accuracy: 0.8444 - val_loss: 0.7941 - val_accuracy: 0.7716\n",
      "Epoch 3/30\n",
      "460/460 [==============================] - 15s 32ms/step - loss: 0.2619 - accuracy: 0.9105 - val_loss: 0.6372 - val_accuracy: 0.8470\n",
      "Epoch 4/30\n",
      "460/460 [==============================] - 15s 33ms/step - loss: 0.2149 - accuracy: 0.9227 - val_loss: 0.4043 - val_accuracy: 0.8962\n",
      "Epoch 5/30\n",
      "460/460 [==============================] - 14s 31ms/step - loss: 0.1988 - accuracy: 0.9308 - val_loss: 0.3896 - val_accuracy: 0.8996\n",
      "Epoch 6/30\n",
      "460/460 [==============================] - 14s 31ms/step - loss: 0.1790 - accuracy: 0.9359 - val_loss: 0.3668 - val_accuracy: 0.9053\n",
      "Epoch 7/30\n",
      "460/460 [==============================] - 14s 31ms/step - loss: 0.1669 - accuracy: 0.9377 - val_loss: 0.2703 - val_accuracy: 0.9169\n",
      "Epoch 8/30\n",
      "460/460 [==============================] - 14s 30ms/step - loss: 0.1671 - accuracy: 0.9385 - val_loss: 0.4133 - val_accuracy: 0.8955\n",
      "Epoch 9/30\n",
      "460/460 [==============================] - 14s 30ms/step - loss: 0.1566 - accuracy: 0.9431 - val_loss: 0.3646 - val_accuracy: 0.8999\n",
      "Epoch 10/30\n",
      "460/460 [==============================] - 14s 31ms/step - loss: 0.1576 - accuracy: 0.9419 - val_loss: 0.4093 - val_accuracy: 0.9125\n",
      "Epoch 11/30\n",
      "460/460 [==============================] - 14s 30ms/step - loss: 0.1607 - accuracy: 0.9392 - val_loss: 0.2877 - val_accuracy: 0.9172\n",
      "Epoch 12/30\n",
      "460/460 [==============================] - 14s 30ms/step - loss: 0.1518 - accuracy: 0.9431 - val_loss: 0.4350 - val_accuracy: 0.9182\n",
      "Epoch 13/30\n",
      "460/460 [==============================] - 14s 30ms/step - loss: 0.1512 - accuracy: 0.9412 - val_loss: 0.4163 - val_accuracy: 0.9135\n",
      "Epoch 14/30\n",
      "460/460 [==============================] - 14s 31ms/step - loss: 0.1513 - accuracy: 0.9475 - val_loss: 0.4168 - val_accuracy: 0.9087\n",
      "Epoch 15/30\n",
      "460/460 [==============================] - 14s 31ms/step - loss: 0.1652 - accuracy: 0.9415 - val_loss: 0.6479 - val_accuracy: 0.8945\n",
      "Epoch 16/30\n",
      "460/460 [==============================] - 14s 30ms/step - loss: 0.1500 - accuracy: 0.9474 - val_loss: 0.5997 - val_accuracy: 0.8755\n",
      "Epoch 17/30\n",
      "460/460 [==============================] - 14s 30ms/step - loss: 0.1387 - accuracy: 0.9472 - val_loss: 0.4313 - val_accuracy: 0.9040\n",
      "Epoch 18/30\n",
      "460/460 [==============================] - 14s 30ms/step - loss: 0.1422 - accuracy: 0.9450 - val_loss: 0.3230 - val_accuracy: 0.9162\n",
      "Epoch 19/30\n",
      "460/460 [==============================] - 14s 31ms/step - loss: 0.1401 - accuracy: 0.9475 - val_loss: 0.3417 - val_accuracy: 0.9230\n",
      "Epoch 20/30\n",
      "460/460 [==============================] - 14s 30ms/step - loss: 0.1394 - accuracy: 0.9490 - val_loss: 0.4246 - val_accuracy: 0.9070\n",
      "Epoch 21/30\n",
      "460/460 [==============================] - 14s 31ms/step - loss: 0.1349 - accuracy: 0.9474 - val_loss: 0.4981 - val_accuracy: 0.8911\n",
      "Epoch 22/30\n",
      "460/460 [==============================] - 14s 31ms/step - loss: 0.1397 - accuracy: 0.9474 - val_loss: 0.4080 - val_accuracy: 0.9189\n",
      "Epoch 23/30\n",
      "460/460 [==============================] - 14s 31ms/step - loss: 0.1401 - accuracy: 0.9487 - val_loss: 0.5321 - val_accuracy: 0.9108\n",
      "Epoch 24/30\n",
      "460/460 [==============================] - 14s 31ms/step - loss: 0.1374 - accuracy: 0.9504 - val_loss: 0.5382 - val_accuracy: 0.9125\n",
      "Epoch 25/30\n",
      "460/460 [==============================] - 14s 31ms/step - loss: 0.1333 - accuracy: 0.9512 - val_loss: 0.4300 - val_accuracy: 0.9152\n",
      "Epoch 26/30\n",
      "460/460 [==============================] - 14s 31ms/step - loss: 0.1482 - accuracy: 0.9474 - val_loss: 0.4082 - val_accuracy: 0.9148\n",
      "Epoch 27/30\n",
      "460/460 [==============================] - 14s 31ms/step - loss: 0.1415 - accuracy: 0.9493 - val_loss: 0.3889 - val_accuracy: 0.9196\n",
      "Epoch 28/30\n",
      "460/460 [==============================] - 14s 31ms/step - loss: 0.1382 - accuracy: 0.9482 - val_loss: 0.3030 - val_accuracy: 0.9182\n",
      "Epoch 29/30\n",
      "460/460 [==============================] - 14s 31ms/step - loss: 0.1645 - accuracy: 0.9429 - val_loss: 0.4493 - val_accuracy: 0.9104\n",
      "Epoch 30/30\n",
      "460/460 [==============================] - 14s 31ms/step - loss: 0.1419 - accuracy: 0.9448 - val_loss: 0.3847 - val_accuracy: 0.9097\n"
     ]
    },
    {
     "data": {
      "text/plain": [
       "<keras.callbacks.History at 0x160a58c2850>"
      ]
     },
     "execution_count": 15,
     "metadata": {},
     "output_type": "execute_result"
    }
   ],
   "source": [
    "# Training the model\n",
    "model.fit(X_train, Y_train, batch_size=batch_size, validation_data=(X_test, Y_test),epochs=epochs)"
   ]
  },
  {
   "cell_type": "code",
   "execution_count": 16,
   "metadata": {},
   "outputs": [],
   "source": [
    "model.save('lstm_1_layer_model.h5')"
   ]
  },
  {
   "cell_type": "code",
   "execution_count": 17,
   "metadata": {},
   "outputs": [],
   "source": [
    "# load model from single file\n",
    "from keras.models import load_model\n",
    "\n",
    "model1 = load_model('lstm_1_layer_model.h5')"
   ]
  },
  {
   "cell_type": "code",
   "execution_count": 18,
   "metadata": {
    "scrolled": false
   },
   "outputs": [
    {
     "name": "stdout",
     "output_type": "stream",
     "text": [
      "93/93 [==============================] - 1s 11ms/step\n",
      "0               STANDING\n",
      "1               STANDING\n",
      "2               STANDING\n",
      "3               STANDING\n",
      "4               STANDING\n",
      "              ...       \n",
      "2942    WALKING_UPSTAIRS\n",
      "2943    WALKING_UPSTAIRS\n",
      "2944    WALKING_UPSTAIRS\n",
      "2945    WALKING_UPSTAIRS\n",
      "2946    WALKING_UPSTAIRS\n",
      "Length: 2947, dtype: object\n",
      "0               STANDING\n",
      "1               STANDING\n",
      "2               STANDING\n",
      "3               STANDING\n",
      "4               STANDING\n",
      "              ...       \n",
      "2942    WALKING_UPSTAIRS\n",
      "2943    WALKING_UPSTAIRS\n",
      "2944    WALKING_UPSTAIRS\n",
      "2945    WALKING_UPSTAIRS\n",
      "2946    WALKING_UPSTAIRS\n",
      "Length: 2947, dtype: object\n"
     ]
    },
    {
     "data": {
      "text/html": [
       "<div>\n",
       "<style scoped>\n",
       "    .dataframe tbody tr th:only-of-type {\n",
       "        vertical-align: middle;\n",
       "    }\n",
       "\n",
       "    .dataframe tbody tr th {\n",
       "        vertical-align: top;\n",
       "    }\n",
       "\n",
       "    .dataframe thead th {\n",
       "        text-align: right;\n",
       "    }\n",
       "</style>\n",
       "<table border=\"1\" class=\"dataframe\">\n",
       "  <thead>\n",
       "    <tr style=\"text-align: right;\">\n",
       "      <th>Pred</th>\n",
       "      <th>LAYING</th>\n",
       "      <th>SITTING</th>\n",
       "      <th>STANDING</th>\n",
       "      <th>WALKING</th>\n",
       "      <th>WALKING_DOWNSTAIRS</th>\n",
       "      <th>WALKING_UPSTAIRS</th>\n",
       "    </tr>\n",
       "    <tr>\n",
       "      <th>True</th>\n",
       "      <th></th>\n",
       "      <th></th>\n",
       "      <th></th>\n",
       "      <th></th>\n",
       "      <th></th>\n",
       "      <th></th>\n",
       "    </tr>\n",
       "  </thead>\n",
       "  <tbody>\n",
       "    <tr>\n",
       "      <th>LAYING</th>\n",
       "      <td>537</td>\n",
       "      <td>0</td>\n",
       "      <td>0</td>\n",
       "      <td>0</td>\n",
       "      <td>0</td>\n",
       "      <td>0</td>\n",
       "    </tr>\n",
       "    <tr>\n",
       "      <th>SITTING</th>\n",
       "      <td>0</td>\n",
       "      <td>410</td>\n",
       "      <td>75</td>\n",
       "      <td>0</td>\n",
       "      <td>0</td>\n",
       "      <td>6</td>\n",
       "    </tr>\n",
       "    <tr>\n",
       "      <th>STANDING</th>\n",
       "      <td>0</td>\n",
       "      <td>105</td>\n",
       "      <td>427</td>\n",
       "      <td>0</td>\n",
       "      <td>0</td>\n",
       "      <td>0</td>\n",
       "    </tr>\n",
       "    <tr>\n",
       "      <th>WALKING</th>\n",
       "      <td>0</td>\n",
       "      <td>0</td>\n",
       "      <td>0</td>\n",
       "      <td>470</td>\n",
       "      <td>6</td>\n",
       "      <td>20</td>\n",
       "    </tr>\n",
       "    <tr>\n",
       "      <th>WALKING_DOWNSTAIRS</th>\n",
       "      <td>0</td>\n",
       "      <td>0</td>\n",
       "      <td>0</td>\n",
       "      <td>2</td>\n",
       "      <td>413</td>\n",
       "      <td>5</td>\n",
       "    </tr>\n",
       "    <tr>\n",
       "      <th>WALKING_UPSTAIRS</th>\n",
       "      <td>0</td>\n",
       "      <td>0</td>\n",
       "      <td>0</td>\n",
       "      <td>35</td>\n",
       "      <td>12</td>\n",
       "      <td>424</td>\n",
       "    </tr>\n",
       "  </tbody>\n",
       "</table>\n",
       "</div>"
      ],
      "text/plain": [
       "Pred                LAYING  SITTING  STANDING  WALKING  WALKING_DOWNSTAIRS  \\\n",
       "True                                                                         \n",
       "LAYING                 537        0         0        0                   0   \n",
       "SITTING                  0      410        75        0                   0   \n",
       "STANDING                 0      105       427        0                   0   \n",
       "WALKING                  0        0         0      470                   6   \n",
       "WALKING_DOWNSTAIRS       0        0         0        2                 413   \n",
       "WALKING_UPSTAIRS         0        0         0       35                  12   \n",
       "\n",
       "Pred                WALKING_UPSTAIRS  \n",
       "True                                  \n",
       "LAYING                             0  \n",
       "SITTING                            6  \n",
       "STANDING                           0  \n",
       "WALKING                           20  \n",
       "WALKING_DOWNSTAIRS                 5  \n",
       "WALKING_UPSTAIRS                 424  "
      ]
     },
     "execution_count": 18,
     "metadata": {},
     "output_type": "execute_result"
    }
   ],
   "source": [
    "# Confusion Matrix\n",
    "confusion_matrix(Y_test, model1.predict(X_test))"
   ]
  },
  {
   "cell_type": "code",
   "execution_count": 19,
   "metadata": {},
   "outputs": [
    {
     "name": "stdout",
     "output_type": "stream",
     "text": [
      "93/93 [==============================] - 1s 11ms/step - loss: 0.3847 - accuracy: 0.9097\n",
      "\n",
      "   cat_crossentropy  ||   accuracy \n",
      "  ____________________________________\n",
      "[0.3847391605377197, 0.9097387194633484]\n"
     ]
    }
   ],
   "source": [
    "score = model1.evaluate(X_test, Y_test)\n",
    "\n",
    "print(\"\\n   cat_crossentropy  ||   accuracy \")\n",
    "print(\"  ____________________________________\")\n",
    "print(score)"
   ]
  },
  {
   "cell_type": "code",
   "execution_count": 20,
   "metadata": {},
   "outputs": [
    {
     "name": "stdout",
     "output_type": "stream",
     "text": [
      "93/93 [==============================] - 1s 10ms/step\n",
      "[[[ 1.165315e-02 -2.939904e-02  1.068262e-01 ...  1.041216e+00\n",
      "   -2.697959e-01  2.377977e-02]\n",
      "  [ 1.310909e-02 -3.972867e-02  1.524549e-01 ...  1.041803e+00\n",
      "   -2.800250e-01  7.629271e-02]\n",
      "  [ 1.126885e-02 -5.240586e-02  2.168462e-01 ...  1.039086e+00\n",
      "   -2.926631e-01  1.474754e-01]\n",
      "  ...\n",
      "  [ 1.291511e-03  1.173502e-02  3.665587e-03 ...  9.930164e-01\n",
      "   -2.599865e-01  1.443951e-01]\n",
      "  [ 1.469997e-03  9.517414e-03  4.041945e-03 ...  9.932414e-01\n",
      "   -2.620643e-01  1.447033e-01]\n",
      "  [ 2.573841e-03  7.305069e-03  4.888436e-03 ...  9.943906e-01\n",
      "   -2.641348e-01  1.454939e-01]]\n",
      "\n",
      " [[ 9.279629e-03  6.650520e-03 -2.631933e-02 ...  9.991921e-01\n",
      "   -2.649349e-01  1.256164e-01]\n",
      "  [ 4.929711e-03  1.864973e-02 -2.688753e-02 ...  9.946787e-01\n",
      "   -2.532142e-01  1.256249e-01]\n",
      "  [ 3.953596e-03  1.553950e-02 -3.663861e-02 ...  9.935518e-01\n",
      "   -2.565887e-01  1.163814e-01]\n",
      "  ...\n",
      "  [ 7.787600e-03  4.730625e-03  1.412899e-02 ...  1.001861e+00\n",
      "   -2.619359e-01  1.527878e-01]\n",
      "  [ 3.433489e-03 -4.619849e-03  1.338054e-03 ...  9.975208e-01\n",
      "   -2.713225e-01  1.398428e-01]\n",
      "  [-1.238678e-03 -1.322889e-02 -1.703861e-02 ...  9.928615e-01\n",
      "   -2.799715e-01  1.213135e-01]]\n",
      "\n",
      " [[ 5.731945e-03  7.304842e-03  1.021286e-02 ...  9.975931e-01\n",
      "   -2.639912e-01  1.507741e-01]\n",
      "  [ 7.065650e-03  7.330912e-03  1.341419e-02 ...  9.989703e-01\n",
      "   -2.638194e-01  1.539427e-01]\n",
      "  [ 5.109758e-03  7.153458e-03  3.646559e-03 ...  9.970574e-01\n",
      "   -2.638495e-01  1.441536e-01]\n",
      "  ...\n",
      "  [-7.428461e-04 -9.629137e-03 -2.500924e-03 ...  9.918802e-01\n",
      "   -2.836712e-01  1.326780e-01]\n",
      "  [-1.923356e-03 -6.425974e-03 -2.524952e-03 ...  9.906626e-01\n",
      "   -2.805970e-01  1.326941e-01]\n",
      "  [-4.304617e-03 -7.932046e-03 -3.140111e-03 ...  9.882446e-01\n",
      "   -2.822329e-01  1.321175e-01]]\n",
      "\n",
      " ...\n",
      "\n",
      " [[-1.476465e-01  5.519791e-03  1.025031e-02 ...  8.213505e-01\n",
      "   -2.484623e-01 -2.216934e-01]\n",
      "  [-1.699026e-01  3.235187e-02  2.632373e-02 ...  7.991996e-01\n",
      "   -2.232599e-01 -2.045561e-01]\n",
      "  [-1.686980e-01  7.826144e-02 -2.703439e-02 ...  8.004623e-01\n",
      "   -1.790170e-01 -2.568719e-01]\n",
      "  ...\n",
      "  [ 4.978930e-01 -3.158365e-01 -2.321939e-02 ...  1.463170e+00\n",
      "   -5.515283e-01 -2.723974e-01]\n",
      "  [ 2.141275e-01 -3.121422e-01  1.814949e-01 ...  1.179223e+00\n",
      "   -5.472997e-01 -6.773376e-02]\n",
      "  [-1.145089e-01 -2.553472e-01  3.870347e-01 ...  8.504963e-01\n",
      "   -4.900368e-01  1.378256e-01]]\n",
      "\n",
      " [[ 7.122683e-02 -1.498122e-01 -1.659306e-01 ...  1.037668e+00\n",
      "   -3.971532e-01 -3.940817e-01]\n",
      "  [-8.866530e-02 -3.755543e-02 -8.708159e-02 ...  8.780725e-01\n",
      "   -2.848634e-01 -3.151097e-01]\n",
      "  [-7.067473e-02 -1.615178e-02  1.401189e-02 ...  8.963897e-01\n",
      "   -2.635297e-01 -2.139040e-01]\n",
      "  ...\n",
      "  [ 1.859878e-01  7.344366e-03  2.383924e-01 ...  1.156389e+00\n",
      "   -2.283478e-01 -3.512052e-03]\n",
      "  [ 2.737114e-01 -2.279012e-02  1.302276e-01 ...  1.243857e+00\n",
      "   -2.583220e-01 -1.117857e-01]\n",
      "  [ 3.536738e-01 -1.118625e-01 -3.402252e-02 ...  1.323546e+00\n",
      "   -3.472416e-01 -2.760682e-01]]\n",
      "\n",
      " [[-1.936425e-01 -1.907511e-01  1.958357e-01 ...  7.713622e-01\n",
      "   -4.250499e-01 -5.327655e-02]\n",
      "  [-6.498738e-02 -2.035990e-01 -1.531400e-01 ...  9.000949e-01\n",
      "   -4.375916e-01 -4.020727e-01]\n",
      "  [-9.712210e-02 -2.083832e-01 -2.710627e-01 ...  8.681034e-01\n",
      "   -4.421595e-01 -5.197379e-01]\n",
      "  ...\n",
      "  [-5.075521e-02 -1.047171e-01  1.732707e-01 ...  9.188616e-01\n",
      "   -3.516799e-01 -7.253919e-02]\n",
      "  [-1.980675e-02 -2.076396e-02  1.956384e-01 ...  9.494752e-01\n",
      "   -2.675260e-01 -5.097549e-02]\n",
      "  [-1.104015e-02  5.243883e-02  2.184321e-01 ...  9.578348e-01\n",
      "   -1.941603e-01 -2.892477e-02]]]\n",
      "[[0 0 0 0 1 0]\n",
      " [0 0 0 0 1 0]\n",
      " [0 0 0 0 1 0]\n",
      " ...\n",
      " [0 1 0 0 0 0]\n",
      " [0 1 0 0 0 0]\n",
      " [0 1 0 0 0 0]]\n"
     ]
    }
   ],
   "source": [
    "\n",
    "yhat = model1.predict(X_test)\n",
    "\n",
    "print(X_test)\n",
    "print(Y_test)"
   ]
  },
  {
   "cell_type": "markdown",
   "metadata": {},
   "source": [
    "<html><h3><p style=\"color:#008080\">With a simple 1 layer architecture we got 92.64% accuracy and a loss of 0.277</p></h4></html>"
   ]
  },
  {
   "cell_type": "markdown",
   "metadata": {},
   "source": []
  },
  {
   "cell_type": "markdown",
   "metadata": {},
   "source": [
    "<html><h1><p style=\"color:red\">2. Defining the Architecture of 2-Layer of LSTM with more hyperparameter tunning </p></h1></html>"
   ]
  },
  {
   "cell_type": "markdown",
   "metadata": {},
   "source": [
    "### 2.1 First Model for 2-Layer of LSTM with more hyperparameter tunning"
   ]
  },
  {
   "cell_type": "code",
   "execution_count": 21,
   "metadata": {},
   "outputs": [],
   "source": [
    "# Initializing parameters\n",
    "n_epochs = 30\n",
    "n_batch = 16\n",
    "n_classes = _count_classes(Y_train)\n",
    "\n",
    "# Bias regularizer value - we will use elasticnet\n",
    "reg = L1L2(0.01, 0.01)"
   ]
  },
  {
   "cell_type": "code",
   "execution_count": 22,
   "metadata": {},
   "outputs": [
    {
     "name": "stdout",
     "output_type": "stream",
     "text": [
      "Model Summary: \n",
      "Model: \"sequential_1\"\n",
      "_________________________________________________________________\n",
      " Layer (type)                Output Shape              Param #   \n",
      "=================================================================\n",
      " lstm_1 (LSTM)               (None, 128, 128)          70656     \n",
      "                                                                 \n",
      " batch_normalization_1 (Batc  (None, 128, 128)         512       \n",
      " hNormalization)                                                 \n",
      "                                                                 \n",
      " dropout_1 (Dropout)         (None, 128, 128)          0         \n",
      "                                                                 \n",
      " lstm_2 (LSTM)               (None, 64)                49408     \n",
      "                                                                 \n",
      " dropout_2 (Dropout)         (None, 64)                0         \n",
      "                                                                 \n",
      " dense_1 (Dense)             (None, 6)                 390       \n",
      "                                                                 \n",
      "=================================================================\n",
      "Total params: 120,966\n",
      "Trainable params: 120,710\n",
      "Non-trainable params: 256\n",
      "_________________________________________________________________\n"
     ]
    }
   ],
   "source": [
    "# Model execution\n",
    "model = Sequential()\n",
    "model.add(LSTM(128, input_shape=(timesteps, input_dim), return_sequences=True,bias_regularizer=reg ))\n",
    "model.add(BatchNormalization())\n",
    "model.add(Dropout(0.20))\n",
    "model.add(LSTM(64))\n",
    "model.add(Dropout(0.50))\n",
    "model.add(Dense(n_classes, activation='sigmoid'))\n",
    "print(\"Model Summary: \")\n",
    "model.summary()"
   ]
  },
  {
   "cell_type": "code",
   "execution_count": 23,
   "metadata": {},
   "outputs": [],
   "source": [
    "model.compile(loss='categorical_crossentropy', optimizer='adam', metrics=['accuracy'])"
   ]
  },
  {
   "cell_type": "code",
   "execution_count": 24,
   "metadata": {},
   "outputs": [
    {
     "name": "stdout",
     "output_type": "stream",
     "text": [
      "Epoch 1/30\n",
      "460/460 [==============================] - 52s 106ms/step - loss: 2.3312 - accuracy: 0.8183 - val_loss: 1.7381 - val_accuracy: 0.8225\n",
      "Epoch 2/30\n",
      "460/460 [==============================] - 48s 105ms/step - loss: 0.9723 - accuracy: 0.9253 - val_loss: 0.7032 - val_accuracy: 0.8846\n",
      "Epoch 3/30\n",
      "460/460 [==============================] - 48s 103ms/step - loss: 0.3583 - accuracy: 0.9286 - val_loss: 0.3500 - val_accuracy: 0.8527\n",
      "Epoch 4/30\n",
      "460/460 [==============================] - 48s 103ms/step - loss: 0.1842 - accuracy: 0.9338 - val_loss: 0.2639 - val_accuracy: 0.9077\n",
      "Epoch 5/30\n",
      "460/460 [==============================] - 48s 104ms/step - loss: 0.1564 - accuracy: 0.9410 - val_loss: 0.3084 - val_accuracy: 0.8955\n",
      "Epoch 6/30\n",
      "460/460 [==============================] - 48s 104ms/step - loss: 0.1763 - accuracy: 0.9329 - val_loss: 0.2939 - val_accuracy: 0.9009\n",
      "Epoch 7/30\n",
      "460/460 [==============================] - 48s 105ms/step - loss: 0.1500 - accuracy: 0.9448 - val_loss: 0.2436 - val_accuracy: 0.9104\n",
      "Epoch 8/30\n",
      "460/460 [==============================] - 48s 105ms/step - loss: 0.1774 - accuracy: 0.9348 - val_loss: 0.2715 - val_accuracy: 0.9101\n",
      "Epoch 9/30\n",
      "460/460 [==============================] - 48s 104ms/step - loss: 0.1427 - accuracy: 0.9412 - val_loss: 0.2441 - val_accuracy: 0.9199\n",
      "Epoch 10/30\n",
      "460/460 [==============================] - 48s 104ms/step - loss: 0.2111 - accuracy: 0.9256 - val_loss: 0.2305 - val_accuracy: 0.9138\n",
      "Epoch 11/30\n",
      "460/460 [==============================] - 48s 104ms/step - loss: 0.1484 - accuracy: 0.9419 - val_loss: 0.2564 - val_accuracy: 0.8945\n",
      "Epoch 12/30\n",
      "460/460 [==============================] - 48s 105ms/step - loss: 0.1709 - accuracy: 0.9396 - val_loss: 0.2607 - val_accuracy: 0.9097\n",
      "Epoch 13/30\n",
      "460/460 [==============================] - 48s 105ms/step - loss: 0.1539 - accuracy: 0.9410 - val_loss: 0.2340 - val_accuracy: 0.9155\n",
      "Epoch 14/30\n",
      "460/460 [==============================] - 48s 105ms/step - loss: 0.1523 - accuracy: 0.9418 - val_loss: 0.2880 - val_accuracy: 0.9138\n",
      "Epoch 15/30\n",
      "460/460 [==============================] - 48s 105ms/step - loss: 0.1293 - accuracy: 0.9476 - val_loss: 0.2689 - val_accuracy: 0.9162\n",
      "Epoch 16/30\n",
      "460/460 [==============================] - 48s 105ms/step - loss: 0.1275 - accuracy: 0.9474 - val_loss: 0.2868 - val_accuracy: 0.9104\n",
      "Epoch 17/30\n",
      "460/460 [==============================] - 48s 105ms/step - loss: 0.1299 - accuracy: 0.9471 - val_loss: 0.2571 - val_accuracy: 0.9135\n",
      "Epoch 18/30\n",
      "460/460 [==============================] - 48s 105ms/step - loss: 0.1263 - accuracy: 0.9452 - val_loss: 0.3156 - val_accuracy: 0.9067\n",
      "Epoch 19/30\n",
      "460/460 [==============================] - 49s 106ms/step - loss: 0.1188 - accuracy: 0.9504 - val_loss: 0.2948 - val_accuracy: 0.9148\n",
      "Epoch 20/30\n",
      "460/460 [==============================] - 48s 105ms/step - loss: 0.1690 - accuracy: 0.9382 - val_loss: 0.2662 - val_accuracy: 0.9281\n",
      "Epoch 21/30\n",
      "460/460 [==============================] - 48s 105ms/step - loss: 0.1333 - accuracy: 0.9468 - val_loss: 0.2627 - val_accuracy: 0.9155\n",
      "Epoch 22/30\n",
      "460/460 [==============================] - 49s 106ms/step - loss: 0.1273 - accuracy: 0.9490 - val_loss: 0.2431 - val_accuracy: 0.9118\n",
      "Epoch 23/30\n",
      "460/460 [==============================] - 49s 106ms/step - loss: 0.1211 - accuracy: 0.9514 - val_loss: 0.2434 - val_accuracy: 0.9175\n",
      "Epoch 24/30\n",
      "460/460 [==============================] - 49s 106ms/step - loss: 0.1168 - accuracy: 0.9512 - val_loss: 0.2442 - val_accuracy: 0.9131\n",
      "Epoch 25/30\n",
      "460/460 [==============================] - 49s 106ms/step - loss: 0.1424 - accuracy: 0.9474 - val_loss: 0.2657 - val_accuracy: 0.9169\n",
      "Epoch 26/30\n",
      "460/460 [==============================] - 49s 106ms/step - loss: 0.1248 - accuracy: 0.9505 - val_loss: 0.2455 - val_accuracy: 0.9240\n",
      "Epoch 27/30\n",
      "460/460 [==============================] - 49s 106ms/step - loss: 0.1506 - accuracy: 0.9475 - val_loss: 0.3104 - val_accuracy: 0.9148\n",
      "Epoch 28/30\n",
      "460/460 [==============================] - 49s 106ms/step - loss: 0.1277 - accuracy: 0.9505 - val_loss: 0.2672 - val_accuracy: 0.9141\n",
      "Epoch 29/30\n",
      "460/460 [==============================] - 49s 106ms/step - loss: 0.1182 - accuracy: 0.9521 - val_loss: 0.2978 - val_accuracy: 0.9152\n",
      "Epoch 30/30\n",
      "460/460 [==============================] - 49s 106ms/step - loss: 0.1884 - accuracy: 0.9369 - val_loss: 0.7546 - val_accuracy: 0.8252\n"
     ]
    },
    {
     "data": {
      "text/plain": [
       "<keras.callbacks.History at 0x160a93db730>"
      ]
     },
     "execution_count": 24,
     "metadata": {},
     "output_type": "execute_result"
    }
   ],
   "source": [
    "# Training the model\n",
    "model.fit(X_train, Y_train, batch_size=n_batch, validation_data=(X_test, Y_test), epochs=n_epochs)"
   ]
  },
  {
   "cell_type": "code",
   "execution_count": 25,
   "metadata": {},
   "outputs": [
    {
     "name": "stdout",
     "output_type": "stream",
     "text": [
      "93/93 [==============================] - 5s 44ms/step\n",
      "0               STANDING\n",
      "1               STANDING\n",
      "2               STANDING\n",
      "3               STANDING\n",
      "4               STANDING\n",
      "              ...       \n",
      "2942    WALKING_UPSTAIRS\n",
      "2943    WALKING_UPSTAIRS\n",
      "2944    WALKING_UPSTAIRS\n",
      "2945    WALKING_UPSTAIRS\n",
      "2946    WALKING_UPSTAIRS\n",
      "Length: 2947, dtype: object\n",
      "0               STANDING\n",
      "1               STANDING\n",
      "2               STANDING\n",
      "3               STANDING\n",
      "4               STANDING\n",
      "              ...       \n",
      "2942    WALKING_UPSTAIRS\n",
      "2943    WALKING_UPSTAIRS\n",
      "2944    WALKING_UPSTAIRS\n",
      "2945    WALKING_UPSTAIRS\n",
      "2946    WALKING_UPSTAIRS\n",
      "Length: 2947, dtype: object\n"
     ]
    },
    {
     "data": {
      "text/html": [
       "<div>\n",
       "<style scoped>\n",
       "    .dataframe tbody tr th:only-of-type {\n",
       "        vertical-align: middle;\n",
       "    }\n",
       "\n",
       "    .dataframe tbody tr th {\n",
       "        vertical-align: top;\n",
       "    }\n",
       "\n",
       "    .dataframe thead th {\n",
       "        text-align: right;\n",
       "    }\n",
       "</style>\n",
       "<table border=\"1\" class=\"dataframe\">\n",
       "  <thead>\n",
       "    <tr style=\"text-align: right;\">\n",
       "      <th>Pred</th>\n",
       "      <th>LAYING</th>\n",
       "      <th>SITTING</th>\n",
       "      <th>STANDING</th>\n",
       "      <th>WALKING</th>\n",
       "      <th>WALKING_DOWNSTAIRS</th>\n",
       "      <th>WALKING_UPSTAIRS</th>\n",
       "    </tr>\n",
       "    <tr>\n",
       "      <th>True</th>\n",
       "      <th></th>\n",
       "      <th></th>\n",
       "      <th></th>\n",
       "      <th></th>\n",
       "      <th></th>\n",
       "      <th></th>\n",
       "    </tr>\n",
       "  </thead>\n",
       "  <tbody>\n",
       "    <tr>\n",
       "      <th>LAYING</th>\n",
       "      <td>325</td>\n",
       "      <td>212</td>\n",
       "      <td>0</td>\n",
       "      <td>0</td>\n",
       "      <td>0</td>\n",
       "      <td>0</td>\n",
       "    </tr>\n",
       "    <tr>\n",
       "      <th>SITTING</th>\n",
       "      <td>8</td>\n",
       "      <td>325</td>\n",
       "      <td>157</td>\n",
       "      <td>0</td>\n",
       "      <td>0</td>\n",
       "      <td>1</td>\n",
       "    </tr>\n",
       "    <tr>\n",
       "      <th>STANDING</th>\n",
       "      <td>0</td>\n",
       "      <td>46</td>\n",
       "      <td>486</td>\n",
       "      <td>0</td>\n",
       "      <td>0</td>\n",
       "      <td>0</td>\n",
       "    </tr>\n",
       "    <tr>\n",
       "      <th>WALKING</th>\n",
       "      <td>0</td>\n",
       "      <td>0</td>\n",
       "      <td>0</td>\n",
       "      <td>469</td>\n",
       "      <td>25</td>\n",
       "      <td>2</td>\n",
       "    </tr>\n",
       "    <tr>\n",
       "      <th>WALKING_DOWNSTAIRS</th>\n",
       "      <td>0</td>\n",
       "      <td>0</td>\n",
       "      <td>4</td>\n",
       "      <td>7</td>\n",
       "      <td>406</td>\n",
       "      <td>3</td>\n",
       "    </tr>\n",
       "    <tr>\n",
       "      <th>WALKING_UPSTAIRS</th>\n",
       "      <td>0</td>\n",
       "      <td>0</td>\n",
       "      <td>0</td>\n",
       "      <td>15</td>\n",
       "      <td>35</td>\n",
       "      <td>421</td>\n",
       "    </tr>\n",
       "  </tbody>\n",
       "</table>\n",
       "</div>"
      ],
      "text/plain": [
       "Pred                LAYING  SITTING  STANDING  WALKING  WALKING_DOWNSTAIRS  \\\n",
       "True                                                                         \n",
       "LAYING                 325      212         0        0                   0   \n",
       "SITTING                  8      325       157        0                   0   \n",
       "STANDING                 0       46       486        0                   0   \n",
       "WALKING                  0        0         0      469                  25   \n",
       "WALKING_DOWNSTAIRS       0        0         4        7                 406   \n",
       "WALKING_UPSTAIRS         0        0         0       15                  35   \n",
       "\n",
       "Pred                WALKING_UPSTAIRS  \n",
       "True                                  \n",
       "LAYING                             0  \n",
       "SITTING                            1  \n",
       "STANDING                           0  \n",
       "WALKING                            2  \n",
       "WALKING_DOWNSTAIRS                 3  \n",
       "WALKING_UPSTAIRS                 421  "
      ]
     },
     "execution_count": 25,
     "metadata": {},
     "output_type": "execute_result"
    }
   ],
   "source": [
    "# Confusion Matrix\n",
    "confusion_matrix(Y_test, model.predict(X_test))"
   ]
  },
  {
   "cell_type": "code",
   "execution_count": 26,
   "metadata": {},
   "outputs": [
    {
     "name": "stdout",
     "output_type": "stream",
     "text": [
      "93/93 [==============================] - 4s 45ms/step - loss: 0.7546 - accuracy: 0.8252\n",
      "\n",
      "   cat_crossentropy  ||   accuracy \n",
      "  ____________________________________\n",
      "[0.7546157836914062, 0.8252460360527039]\n"
     ]
    }
   ],
   "source": [
    "score = model.evaluate(X_test, Y_test)\n",
    "\n",
    "print(\"\\n   cat_crossentropy  ||   accuracy \")\n",
    "print(\"  ____________________________________\")\n",
    "print(score)"
   ]
  },
  {
   "cell_type": "markdown",
   "metadata": {},
   "source": [
    "### 2.2 Second Model for 2-Layer of LSTM with more hyperparameter tunning"
   ]
  },
  {
   "cell_type": "code",
   "execution_count": 27,
   "metadata": {},
   "outputs": [
    {
     "name": "stdout",
     "output_type": "stream",
     "text": [
      "Model Summary: \n",
      "Model: \"sequential_2\"\n",
      "_________________________________________________________________\n",
      " Layer (type)                Output Shape              Param #   \n",
      "=================================================================\n",
      " lstm_3 (LSTM)               (None, 128, 64)           18944     \n",
      "                                                                 \n",
      " batch_normalization_2 (Batc  (None, 128, 64)          256       \n",
      " hNormalization)                                                 \n",
      "                                                                 \n",
      " dropout_3 (Dropout)         (None, 128, 64)           0         \n",
      "                                                                 \n",
      " lstm_4 (LSTM)               (None, 48)                21696     \n",
      "                                                                 \n",
      " dropout_4 (Dropout)         (None, 48)                0         \n",
      "                                                                 \n",
      " dense_2 (Dense)             (None, 6)                 294       \n",
      "                                                                 \n",
      "=================================================================\n",
      "Total params: 41,190\n",
      "Trainable params: 41,062\n",
      "Non-trainable params: 128\n",
      "_________________________________________________________________\n"
     ]
    }
   ],
   "source": [
    "# Model execution\n",
    "model = Sequential()\n",
    "model.add(LSTM(64, input_shape=(timesteps, input_dim), return_sequences=True, bias_regularizer=reg))\n",
    "model.add(BatchNormalization())\n",
    "model.add(Dropout(0.50))\n",
    "model.add(LSTM(48))\n",
    "model.add(Dropout(0.50))\n",
    "model.add(Dense(n_classes, activation='sigmoid'))\n",
    "print(\"Model Summary: \")\n",
    "model.summary()"
   ]
  },
  {
   "cell_type": "code",
   "execution_count": 28,
   "metadata": {},
   "outputs": [],
   "source": [
    "model.compile(loss='categorical_crossentropy', optimizer='adam', metrics=['accuracy'])"
   ]
  },
  {
   "cell_type": "code",
   "execution_count": 29,
   "metadata": {},
   "outputs": [
    {
     "name": "stdout",
     "output_type": "stream",
     "text": [
      "Epoch 1/30\n",
      "460/460 [==============================] - 39s 78ms/step - loss: 1.6749 - accuracy: 0.7085 - val_loss: 1.8827 - val_accuracy: 0.6373\n",
      "Epoch 2/30\n",
      "460/460 [==============================] - 35s 76ms/step - loss: 0.7199 - accuracy: 0.8898 - val_loss: 0.6894 - val_accuracy: 0.7961\n",
      "Epoch 3/30\n",
      "460/460 [==============================] - 34s 75ms/step - loss: 0.3785 - accuracy: 0.9086 - val_loss: 0.5497 - val_accuracy: 0.8110\n",
      "Epoch 4/30\n",
      "460/460 [==============================] - 36s 79ms/step - loss: 0.2299 - accuracy: 0.9240 - val_loss: 0.3792 - val_accuracy: 0.8663\n",
      "Epoch 5/30\n",
      "460/460 [==============================] - 36s 78ms/step - loss: 0.2126 - accuracy: 0.9232 - val_loss: 0.2708 - val_accuracy: 0.9087\n",
      "Epoch 6/30\n",
      "460/460 [==============================] - 36s 78ms/step - loss: 0.1702 - accuracy: 0.9366 - val_loss: 0.2493 - val_accuracy: 0.9182\n",
      "Epoch 7/30\n",
      "460/460 [==============================] - 36s 77ms/step - loss: 0.1570 - accuracy: 0.9423 - val_loss: 0.2452 - val_accuracy: 0.9145\n",
      "Epoch 8/30\n",
      "460/460 [==============================] - 35s 77ms/step - loss: 0.1589 - accuracy: 0.9411 - val_loss: 0.3308 - val_accuracy: 0.8833\n",
      "Epoch 9/30\n",
      "460/460 [==============================] - 36s 77ms/step - loss: 0.1668 - accuracy: 0.9382 - val_loss: 0.9805 - val_accuracy: 0.8062\n",
      "Epoch 10/30\n",
      "460/460 [==============================] - 36s 78ms/step - loss: 0.1661 - accuracy: 0.9344 - val_loss: 0.2692 - val_accuracy: 0.9114\n",
      "Epoch 11/30\n",
      "460/460 [==============================] - 36s 78ms/step - loss: 0.1616 - accuracy: 0.9369 - val_loss: 0.2478 - val_accuracy: 0.9046\n",
      "Epoch 12/30\n",
      "460/460 [==============================] - 36s 78ms/step - loss: 0.1505 - accuracy: 0.9416 - val_loss: 0.2557 - val_accuracy: 0.9196\n",
      "Epoch 13/30\n",
      "460/460 [==============================] - 36s 78ms/step - loss: 0.1724 - accuracy: 0.9316 - val_loss: 0.2503 - val_accuracy: 0.9094\n",
      "Epoch 14/30\n",
      "460/460 [==============================] - 36s 78ms/step - loss: 0.1453 - accuracy: 0.9433 - val_loss: 0.3280 - val_accuracy: 0.9135\n",
      "Epoch 15/30\n",
      "460/460 [==============================] - 36s 78ms/step - loss: 0.1869 - accuracy: 0.9319 - val_loss: 0.3578 - val_accuracy: 0.8992\n",
      "Epoch 16/30\n",
      "460/460 [==============================] - 36s 78ms/step - loss: 0.1835 - accuracy: 0.9361 - val_loss: 0.3705 - val_accuracy: 0.8951\n",
      "Epoch 17/30\n",
      "460/460 [==============================] - 36s 78ms/step - loss: 0.1920 - accuracy: 0.9285 - val_loss: 0.2922 - val_accuracy: 0.9101\n",
      "Epoch 18/30\n",
      "460/460 [==============================] - 36s 78ms/step - loss: 0.1400 - accuracy: 0.9467 - val_loss: 0.2970 - val_accuracy: 0.9155\n",
      "Epoch 19/30\n",
      "460/460 [==============================] - 36s 78ms/step - loss: 0.1270 - accuracy: 0.9486 - val_loss: 0.2999 - val_accuracy: 0.9230\n",
      "Epoch 20/30\n",
      "460/460 [==============================] - 36s 78ms/step - loss: 0.1368 - accuracy: 0.9449 - val_loss: 0.2493 - val_accuracy: 0.9182\n",
      "Epoch 21/30\n",
      "460/460 [==============================] - 36s 78ms/step - loss: 0.1288 - accuracy: 0.9494 - val_loss: 0.2874 - val_accuracy: 0.9131\n",
      "Epoch 22/30\n",
      "460/460 [==============================] - 39s 84ms/step - loss: 0.1318 - accuracy: 0.9497 - val_loss: 0.2712 - val_accuracy: 0.9121\n",
      "Epoch 23/30\n",
      "460/460 [==============================] - 35s 77ms/step - loss: 0.1409 - accuracy: 0.9457 - val_loss: 0.2959 - val_accuracy: 0.9270\n",
      "Epoch 24/30\n",
      "460/460 [==============================] - 35s 77ms/step - loss: 0.1295 - accuracy: 0.9471 - val_loss: 0.3547 - val_accuracy: 0.9074\n",
      "Epoch 25/30\n",
      "460/460 [==============================] - 35s 76ms/step - loss: 0.1431 - accuracy: 0.9453 - val_loss: 0.3287 - val_accuracy: 0.9196\n",
      "Epoch 26/30\n",
      "460/460 [==============================] - 35s 77ms/step - loss: 0.1266 - accuracy: 0.9489 - val_loss: 0.3796 - val_accuracy: 0.8985\n",
      "Epoch 27/30\n",
      "460/460 [==============================] - 35s 76ms/step - loss: 0.1538 - accuracy: 0.9397 - val_loss: 0.3124 - val_accuracy: 0.9026\n",
      "Epoch 28/30\n",
      "460/460 [==============================] - 35s 76ms/step - loss: 0.1325 - accuracy: 0.9474 - val_loss: 0.2399 - val_accuracy: 0.9114\n",
      "Epoch 29/30\n",
      "460/460 [==============================] - 35s 77ms/step - loss: 0.1302 - accuracy: 0.9484 - val_loss: 0.2815 - val_accuracy: 0.9172\n",
      "Epoch 30/30\n",
      "460/460 [==============================] - 36s 77ms/step - loss: 0.1244 - accuracy: 0.9471 - val_loss: 0.3319 - val_accuracy: 0.9165\n"
     ]
    },
    {
     "data": {
      "text/plain": [
       "<keras.callbacks.History at 0x160b5da17f0>"
      ]
     },
     "execution_count": 29,
     "metadata": {},
     "output_type": "execute_result"
    }
   ],
   "source": [
    "# Training the model\n",
    "model.fit(X_train, Y_train, batch_size=n_batch, validation_data=(X_test, Y_test), epochs=n_epochs)"
   ]
  },
  {
   "cell_type": "code",
   "execution_count": 30,
   "metadata": {
    "scrolled": false
   },
   "outputs": [
    {
     "name": "stdout",
     "output_type": "stream",
     "text": [
      "93/93 [==============================] - 3s 28ms/step\n",
      "0               STANDING\n",
      "1               STANDING\n",
      "2               STANDING\n",
      "3               STANDING\n",
      "4               STANDING\n",
      "              ...       \n",
      "2942    WALKING_UPSTAIRS\n",
      "2943    WALKING_UPSTAIRS\n",
      "2944    WALKING_UPSTAIRS\n",
      "2945    WALKING_UPSTAIRS\n",
      "2946    WALKING_UPSTAIRS\n",
      "Length: 2947, dtype: object\n",
      "0               STANDING\n",
      "1               STANDING\n",
      "2               STANDING\n",
      "3               STANDING\n",
      "4               STANDING\n",
      "              ...       \n",
      "2942    WALKING_UPSTAIRS\n",
      "2943    WALKING_UPSTAIRS\n",
      "2944    WALKING_UPSTAIRS\n",
      "2945    WALKING_UPSTAIRS\n",
      "2946    WALKING_UPSTAIRS\n",
      "Length: 2947, dtype: object\n"
     ]
    },
    {
     "data": {
      "text/html": [
       "<div>\n",
       "<style scoped>\n",
       "    .dataframe tbody tr th:only-of-type {\n",
       "        vertical-align: middle;\n",
       "    }\n",
       "\n",
       "    .dataframe tbody tr th {\n",
       "        vertical-align: top;\n",
       "    }\n",
       "\n",
       "    .dataframe thead th {\n",
       "        text-align: right;\n",
       "    }\n",
       "</style>\n",
       "<table border=\"1\" class=\"dataframe\">\n",
       "  <thead>\n",
       "    <tr style=\"text-align: right;\">\n",
       "      <th>Pred</th>\n",
       "      <th>LAYING</th>\n",
       "      <th>SITTING</th>\n",
       "      <th>STANDING</th>\n",
       "      <th>WALKING</th>\n",
       "      <th>WALKING_DOWNSTAIRS</th>\n",
       "      <th>WALKING_UPSTAIRS</th>\n",
       "    </tr>\n",
       "    <tr>\n",
       "      <th>True</th>\n",
       "      <th></th>\n",
       "      <th></th>\n",
       "      <th></th>\n",
       "      <th></th>\n",
       "      <th></th>\n",
       "      <th></th>\n",
       "    </tr>\n",
       "  </thead>\n",
       "  <tbody>\n",
       "    <tr>\n",
       "      <th>LAYING</th>\n",
       "      <td>537</td>\n",
       "      <td>0</td>\n",
       "      <td>0</td>\n",
       "      <td>0</td>\n",
       "      <td>0</td>\n",
       "      <td>0</td>\n",
       "    </tr>\n",
       "    <tr>\n",
       "      <th>SITTING</th>\n",
       "      <td>6</td>\n",
       "      <td>399</td>\n",
       "      <td>85</td>\n",
       "      <td>0</td>\n",
       "      <td>0</td>\n",
       "      <td>1</td>\n",
       "    </tr>\n",
       "    <tr>\n",
       "      <th>STANDING</th>\n",
       "      <td>0</td>\n",
       "      <td>90</td>\n",
       "      <td>441</td>\n",
       "      <td>0</td>\n",
       "      <td>0</td>\n",
       "      <td>1</td>\n",
       "    </tr>\n",
       "    <tr>\n",
       "      <th>WALKING</th>\n",
       "      <td>0</td>\n",
       "      <td>0</td>\n",
       "      <td>0</td>\n",
       "      <td>464</td>\n",
       "      <td>22</td>\n",
       "      <td>10</td>\n",
       "    </tr>\n",
       "    <tr>\n",
       "      <th>WALKING_DOWNSTAIRS</th>\n",
       "      <td>0</td>\n",
       "      <td>0</td>\n",
       "      <td>0</td>\n",
       "      <td>2</td>\n",
       "      <td>418</td>\n",
       "      <td>0</td>\n",
       "    </tr>\n",
       "    <tr>\n",
       "      <th>WALKING_UPSTAIRS</th>\n",
       "      <td>0</td>\n",
       "      <td>0</td>\n",
       "      <td>0</td>\n",
       "      <td>0</td>\n",
       "      <td>29</td>\n",
       "      <td>442</td>\n",
       "    </tr>\n",
       "  </tbody>\n",
       "</table>\n",
       "</div>"
      ],
      "text/plain": [
       "Pred                LAYING  SITTING  STANDING  WALKING  WALKING_DOWNSTAIRS  \\\n",
       "True                                                                         \n",
       "LAYING                 537        0         0        0                   0   \n",
       "SITTING                  6      399        85        0                   0   \n",
       "STANDING                 0       90       441        0                   0   \n",
       "WALKING                  0        0         0      464                  22   \n",
       "WALKING_DOWNSTAIRS       0        0         0        2                 418   \n",
       "WALKING_UPSTAIRS         0        0         0        0                  29   \n",
       "\n",
       "Pred                WALKING_UPSTAIRS  \n",
       "True                                  \n",
       "LAYING                             0  \n",
       "SITTING                            1  \n",
       "STANDING                           1  \n",
       "WALKING                           10  \n",
       "WALKING_DOWNSTAIRS                 0  \n",
       "WALKING_UPSTAIRS                 442  "
      ]
     },
     "execution_count": 30,
     "metadata": {},
     "output_type": "execute_result"
    }
   ],
   "source": [
    "# Confusion Matrix\n",
    "confusion_matrix(Y_test, model.predict(X_test))"
   ]
  },
  {
   "cell_type": "code",
   "execution_count": 31,
   "metadata": {},
   "outputs": [
    {
     "name": "stdout",
     "output_type": "stream",
     "text": [
      "93/93 [==============================] - 3s 28ms/step - loss: 0.3319 - accuracy: 0.9165\n",
      "\n",
      "   cat_crossentropy  ||   accuracy \n",
      "  ____________________________________\n",
      "[0.33185917139053345, 0.9165253043174744]\n"
     ]
    }
   ],
   "source": [
    "score = model.evaluate(X_test, Y_test)\n",
    "\n",
    "print(\"\\n   cat_crossentropy  ||   accuracy \")\n",
    "print(\"  ____________________________________\")\n",
    "print(score)"
   ]
  },
  {
   "cell_type": "code",
   "execution_count": 32,
   "metadata": {},
   "outputs": [],
   "source": [
    "from mlxtend.plotting import plot_confusion_matrix"
   ]
  },
  {
   "cell_type": "code",
   "execution_count": 33,
   "metadata": {},
   "outputs": [
    {
     "name": "stdout",
     "output_type": "stream",
     "text": [
      "93/93 [==============================] - 3s 29ms/step\n",
      "0               STANDING\n",
      "1               STANDING\n",
      "2               STANDING\n",
      "3               STANDING\n",
      "4               STANDING\n",
      "              ...       \n",
      "2942    WALKING_UPSTAIRS\n",
      "2943    WALKING_UPSTAIRS\n",
      "2944    WALKING_UPSTAIRS\n",
      "2945    WALKING_UPSTAIRS\n",
      "2946    WALKING_UPSTAIRS\n",
      "Length: 2947, dtype: object\n",
      "0               STANDING\n",
      "1               STANDING\n",
      "2               STANDING\n",
      "3               STANDING\n",
      "4               STANDING\n",
      "              ...       \n",
      "2942    WALKING_UPSTAIRS\n",
      "2943    WALKING_UPSTAIRS\n",
      "2944    WALKING_UPSTAIRS\n",
      "2945    WALKING_UPSTAIRS\n",
      "2946    WALKING_UPSTAIRS\n",
      "Length: 2947, dtype: object\n"
     ]
    },
    {
     "data": {
      "image/png": "[encoded data removed]",
      "text/plain": [
       "<Figure size 1000x800 with 2 Axes>"
      ]
     },
     "metadata": {},
     "output_type": "display_data"
    }
   ],
   "source": [
    "result = confusion_matrix(Y_test, model.predict(X_test))\n",
    "\n",
    "plt.figure(figsize=(10, 8))\n",
    "sns.heatmap(result, \n",
    "                xticklabels= list(ACTIVITIES.values()), \n",
    "                yticklabels=list(ACTIVITIES.values()), \n",
    "                annot=True, fmt=\"d\", cmap=\"BuPu\");\n",
    "plt.title(\"Confusion matrix\")\n",
    "plt.ylabel('True label')\n",
    "plt.xlabel('Predicted label')\n",
    "plt.show()  "
   ]
  },
  {
   "cell_type": "code",
   "execution_count": 34,
   "metadata": {},
   "outputs": [],
   "source": [
    "model.save('lstm_2_2layer_model.h5')"
   ]
  },
  {
   "cell_type": "code",
   "execution_count": 35,
   "metadata": {},
   "outputs": [],
   "source": [
    "model2 = load_model('lstm_2_2layer_model.h5')"
   ]
  },
  {
   "cell_type": "code",
   "execution_count": 36,
   "metadata": {},
   "outputs": [
    {
     "name": "stdout",
     "output_type": "stream",
     "text": [
      "93/93 [==============================] - 3s 25ms/step - loss: 0.3319 - accuracy: 0.9165\n",
      "\n",
      "   cat_crossentropy  ||   accuracy \n",
      "  ____________________________________\n",
      "[0.33185917139053345, 0.9165253043174744]\n"
     ]
    }
   ],
   "source": [
    "score = model2.evaluate(X_test, Y_test)\n",
    "\n",
    "print(\"\\n   cat_crossentropy  ||   accuracy \")\n",
    "print(\"  ____________________________________\")\n",
    "print(score)"
   ]
  },
  {
   "cell_type": "code",
   "execution_count": null,
   "metadata": {},
   "outputs": [],
   "source": []
  }
 ],
 "metadata": {
  "kernelspec": {
   "display_name": "Python 3 (ipykernel)",
   "language": "python",
   "name": "python3"
  },
  "language_info": {
   "codemirror_mode": {
    "name": "ipython",
    "version": 3
   },
   "file_extension": ".py",
   "mimetype": "text/x-python",
   "name": "python",
   "nbconvert_exporter": "python",
   "pygments_lexer": "ipython3",
   "version": "3.9.13"
  }
 },
 "nbformat": 4,
 "nbformat_minor": 2
}
